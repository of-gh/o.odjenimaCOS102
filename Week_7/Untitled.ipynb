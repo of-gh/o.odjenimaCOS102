{
 "cells": [
  {
   "cell_type": "code",
   "execution_count": null,
   "id": "927b6637-cee9-43af-8d2d-715f29209ecc",
   "metadata": {},
   "outputs": [],
   "source": [
    "import pandas as pd\n",
    "\n",
    "data = [\n",
    "    # Refreshment Beverages\n",
    "    {\"Segment\": \"Refreshment Beverages\", \"Product\": \"Bournvita\", \"Brand\": \"CADBURY BOURNVITA\", \"Market\": \"Local\"},\n",
    "    {\"Segment\": \"Refreshment Beverages\", \"Product\": \"Hot Chocolate\", \"Brand\": \"CADBURY 3-in-1 HOT CHOCOLATE\", \"Market\": \"Local\"},\n",
    "\n",
    "    # Confectionery\n",
    "    {\"Segment\": \"Confectionery\", \"Product\": \"Tom Tom\", \"Brand\": \"TOMTOM CLASSIC\", \"Market\": \"Local\"},\n",
    "    {\"Segment\": \"Confectionery\", \"Product\": \"Tom Tom\", \"Brand\": \"TOMTOM STRAWBERRY\", \"Market\": \"Local\"},\n",
    "    {\"Segment\": \"Confectionery\", \"Product\": \"Buttermint\", \"Brand\": \"BUTTERMINT\", \"Market\": \"Local\"},\n",
    "\n",
    "    # Intermediate Cocoa Products (Local + Export)\n",
    "    {\"Segment\": \"Intermediate Cocoa Products\", \"Product\": \"Cocoa Powder\", \"Brand\": \"COCOA POWDER\", \"Market\": \"Local\"},\n",
    "    {\"Segment\": \"Intermediate Cocoa Products\", \"Product\": \"Cocoa Butter\", \"Brand\": \"COCOA BUTTER\", \"Market\": \"Export\"},\n",
    "    {\"Segment\": \"Intermediate Cocoa Products\", \"Product\": \"Cocoa Cake\", \"Brand\": \"COCOA CAKE\", \"Market\": \"Export\"},\n",
    "    {\"Segment\": \"Intermediate Cocoa Products\", \"Product\": \"Cocoa Liquor\", \"Brand\": \"COCOA LIQUOR\", \"Market\": \"Export\"}\n",
    "]\n",
    "\n",
    "# Create a pandas DataFrame\n",
    "df = pd.DataFrame(data)\n",
    "\n",
    "#Save the DataFrame to a CSV file\n",
    "df.to_csv(\"cadbury_products.csv\", index=False)\n",
    "\n",
    "print(\"Product data successfully saved to 'cadbury_products.csv'\")\n"
   ]
  }
 ],
 "metadata": {
  "kernelspec": {
   "display_name": "Python [conda env:base] *",
   "language": "python",
   "name": "conda-base-py"
  },
  "language_info": {
   "codemirror_mode": {
    "name": "ipython",
    "version": 3
   },
   "file_extension": ".py",
   "mimetype": "text/x-python",
   "name": "python",
   "nbconvert_exporter": "python",
   "pygments_lexer": "ipython3",
   "version": "3.12.7"
  }
 },
 "nbformat": 4,
 "nbformat_minor": 5
}
