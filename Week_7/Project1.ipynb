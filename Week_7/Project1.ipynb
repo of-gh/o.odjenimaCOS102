{
 "cells": [
  {
   "cell_type": "code",
   "execution_count": null,
   "id": "26353730-9c07-470f-8dab-8f2b8192895d",
   "metadata": {},
   "outputs": [],
   "source": [
    "import pandas as pd\n",
    "\n",
    "# Load the CSV file \n",
    "df = pd.read_csv(\"C:\\Users\\ofegh\\Downloads\\Top-Apps-in-Google-Play.csv\")\n",
    "\n",
    "#Display the first 7 rows\n",
    "\n",
    "print(df.head(7))"
   ]
  }
 ],
 "metadata": {
  "kernelspec": {
   "display_name": "Python [conda env:base] *",
   "language": "python",
   "name": "conda-base-py"
  },
  "language_info": {
   "codemirror_mode": {
    "name": "ipython",
    "version": 3
   },
   "file_extension": ".py",
   "mimetype": "text/x-python",
   "name": "python",
   "nbconvert_exporter": "python",
   "pygments_lexer": "ipython3",
   "version": "3.12.7"
  }
 },
 "nbformat": 4,
 "nbformat_minor": 5
}
