{
 "cells": [
  {
   "cell_type": "code",
   "execution_count": 1,
   "id": "8a5b87d9-cde3-4ec0-8de0-0b4e98188011",
   "metadata": {
    "collapsed": true,
    "jupyter": {
     "outputs_hidden": true
    }
   },
   "outputs": [
    {
     "name": "stdin",
     "output_type": "stream",
     "text": [
      "Enter your state of origin:  Delta\n"
     ]
    },
    {
     "name": "stdout",
     "output_type": "stream",
     "text": [
      "Your state of origin is:  Delta\n",
      "The first character is:  D\n",
      "The characters starting from 3rd to 5th are:  lta\n",
      "The string starting from 3rd character is:  lta\n",
      "State of origin two times DeltaDelta\n"
     ]
    }
   ],
   "source": [
    "str = input(\"Enter your state of origin: \")\n",
    "\n",
    "print (\"Your state of origin is: \", str)\n",
    "print (\"The first character is: \", str[0])\n",
    "print (\"The characters starting from 3rd to 5th are: \", str[2:5])\n",
    "print (\"The string starting from 3rd character is: \", str[2:])\n",
    "print (\"State of origin two times\", str*2)"
   ]
  },
  {
   "cell_type": "code",
   "execution_count": 5,
   "id": "9de50251-da9e-491b-9e20-ae0829261d0a",
   "metadata": {
    "collapsed": true,
    "jupyter": {
     "outputs_hidden": true
    },
    "scrolled": true
   },
   "outputs": [
    {
     "name": "stdin",
     "output_type": "stream",
     "text": [
      "Enter mass in kilograms:  500\n"
     ]
    },
    {
     "name": "stdout",
     "output_type": "stream",
     "text": [
      "The energy equivalent to 500.0 kg of mass is 4.493775893684088e+19 joules.\n"
     ]
    }
   ],
   "source": [
    "# Input from user\n",
    "m = float(input(\"Enter mass in kilograms: \"))\n",
    "\n",
    "#Constant value for the speed of light in m/s\n",
    "c = 299792458\n",
    "\n",
    "#Calculating energy using Einsteins's equation\n",
    "energy =  m*c**2\n",
    "\n",
    "#Displaying the result\n",
    "print(f\"The energy equivalent to {m} kg of mass is {energy} joules.\")"
   ]
  },
  {
   "cell_type": "code",
   "execution_count": 13,
   "id": "416f1af1-6e0e-4ac2-8387-10593a299a7f",
   "metadata": {},
   "outputs": [
    {
     "name": "stdout",
     "output_type": "stream",
     "text": [
      "['Anaconda', 786, 2.23, 'Jupyter', 70.2]\n",
      "Anaconda\n",
      "[786, 2.23]\n",
      "[2.23, 'Jupyter', 70.2]\n",
      "[321, 'Python', 321, 'Python']\n",
      "['Anaconda', 786, 2.23, 'Jupyter', 70.2, 321, 'Python']\n"
     ]
    }
   ],
   "source": [
    "list = [ 'Anaconda', 786, 2.23, 'Jupyter', 70.2]\n",
    "shortlist = [321, 'Python']\n",
    "\n",
    "print(list)             #Prints complete list \n",
    "print(list[0])          #Prints first element of the list\n",
    "print(list[1:3])        #Prints elements starting from 2nd til 3rd\n",
    "print(list[2:])         # Prints elements starting from 3rd element\n",
    "print(shortlist *2)     #Prints list two times\n",
    "print(list + shortlist) #Prints concatenated lists"
   ]
  },
  {
   "cell_type": "code",
   "execution_count": 15,
   "id": "6e9ccfda-43e4-44d0-a697-0b641c2fb264",
   "metadata": {},
   "outputs": [
    {
     "name": "stdout",
     "output_type": "stream",
     "text": [
      "('Ekiti', 750, 'Oshogbo', 250, 'Akure', 500)\n",
      "500\n",
      "('Oshogbo', 250)\n",
      "(250, 'Akure', 500)\n",
      "('Abeokuta', 300, 'Ogbomoso', 'Abeokuta', 300, 'Ogbomoso', 'Abeokuta', 300, 'Ogbomoso')\n",
      "('Ekiti', 750, 'Oshogbo', 250, 'Akure', 500, 'Abeokuta', 300, 'Ogbomoso')\n"
     ]
    }
   ],
   "source": [
    "tuple = (\"Ekiti\", 750, 'Oshogbo', 250, \"Akure\", 500)\n",
    "s_tuple = (\"Abeokuta\", 300, \"Ogbomoso\")\n",
    "\n",
    "#Prints the complete tuple\n",
    "print (tuple)\n",
    "\n",
    "#Prints last element of the tuple\n",
    "print (tuple[-1])\n",
    "\n",
    "#Prints elements of the tuple starting from 2nd till 3rd\n",
    "print(tuple[2:4])\n",
    "\n",
    "#Prints elemnts of the tuple starting from the 3rd element\n",
    "print(tuple [3:])\n",
    "\n",
    "#Prints the contents of the tuple twice\n",
    "print (s_tuple * 3)\n",
    "\n",
    "#Prints concatenated tuples\n",
    "print(tuple + s_tuple)"
   ]
  },
  {
   "cell_type": "code",
   "execution_count": 33,
   "id": "948e57ee-b7d3-4888-bc95-cc9535d93957",
   "metadata": {},
   "outputs": [
    {
     "name": "stdout",
     "output_type": "stream",
     "text": [
      "False\n",
      "False\n",
      "False\n",
      "False\n",
      "True\n"
     ]
    }
   ],
   "source": [
    "# Returns false as game_1 is not equal to game_2\n",
    "game_1 = 2\n",
    "game_2 = 4\n",
    "print (bool (game_1 == game_2))\n",
    "# Or\n",
    "print(game_1 == game_2)\n",
    "# Returns False as val is None \n",
    "val = None\n",
    "print(bool(val))\n",
    "# Returns false as num is an empty sequence \n",
    "num = ()\n",
    "print(bool(num))\n",
    "# Returns true as age is boolean \n",
    "age = True\n",
    "print(bool(age))"
   ]
  },
  {
   "cell_type": "code",
   "execution_count": 23,
   "id": "8ce3f935-3757-41b2-a8b3-76776e723972",
   "metadata": {},
   "outputs": [
    {
     "name": "stdout",
     "output_type": "stream",
     "text": [
      "Grade = 70\n",
      "GPA = 4\n",
      "CGPA = 4\n"
     ]
    }
   ],
   "source": [
    "# Convert to int\n",
    "grade = int(70)\n",
    "gpa = int(4.9)\n",
    "cgpa = int(\"4\")\n",
    "# grade will be 70 #gpa will be 4.9\n",
    "# cgpa will be 4\n",
    "print (f\"Grade = {grade}\")\n",
    "print (f\"GPA = {gpa}\") \n",
    "print (f\"CGPA = {cgpa}\")"
   ]
  },
  {
   "cell_type": "code",
   "execution_count": 25,
   "id": "49bf30cf-fd42-4a1c-a898-7017a2aab996",
   "metadata": {},
   "outputs": [
    {
     "name": "stdout",
     "output_type": "stream",
     "text": [
      "Grade= 97.0\n",
      "GPA= 5.0\n",
      "CGPA = 4.7\n"
     ]
    }
   ],
   "source": [
    "# Convert to float\n",
    "grade = float (97) \n",
    "gpa = float(5) \n",
    "cgpa = float(\"4.7\")\n",
    "print (f\"Grade= {grade}\")\n",
    "print (f\"GPA= {gpa}\")\n",
    "print(f\"CGPA = {cgpa}\")"
   ]
  },
  {
   "cell_type": "code",
   "execution_count": null,
   "id": "3c29c99f-1176-42a7-8cb1-fc7956cd1164",
   "metadata": {},
   "outputs": [],
   "source": []
  }
 ],
 "metadata": {
  "kernelspec": {
   "display_name": "Python [conda env:base] *",
   "language": "python",
   "name": "conda-base-py"
  },
  "language_info": {
   "codemirror_mode": {
    "name": "ipython",
    "version": 3
   },
   "file_extension": ".py",
   "mimetype": "text/x-python",
   "name": "python",
   "nbconvert_exporter": "python",
   "pygments_lexer": "ipython3",
   "version": "3.12.7"
  }
 },
 "nbformat": 4,
 "nbformat_minor": 5
}
