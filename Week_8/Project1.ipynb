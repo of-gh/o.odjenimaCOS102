{
 "cells": [
  {
   "cell_type": "code",
   "execution_count": 1,
   "id": "8b134dba-5d43-4ca6-ac47-b3dd9714aeee",
   "metadata": {},
   "outputs": [
    {
     "name": "stdout",
     "output_type": "stream",
     "text": [
      "Welcome to the Employee Attendance System.\n"
     ]
    },
    {
     "name": "stdin",
     "output_type": "stream",
     "text": [
      "Enter your full name:  Eyo Ishan\n"
     ]
    },
    {
     "name": "stdout",
     "output_type": "stream",
     "text": [
      "\n",
      "Welcome, Eyo Ishan!\n",
      "Attendance taken.\n",
      "Your task for today: Transporting\n"
     ]
    }
   ],
   "source": [
    "import random\n",
    "\n",
    "class EmployeeData:\n",
    "    def __init__(self):\n",
    "        self.employees = [\"Mary Evans\", \"Eyo Ishan\", \"Durojaiye Dare\", \"Adams Ali\", \"Andrew Ugwu\",\n",
    "            \"Stella Mankinde\", \"Jane Akibo\", \"Ago James\", \"Michell Taiwo\", \"Abraham Jones\",\n",
    "            \"Nicole Anide\", \"Kosi Korso\", \"Adele Martins\", \"Emmanuel Ojo\", \"Ajayi Fatima\"]\n",
    "        self.tasks = [\"Loading\", \"Transporting\", \"Reviewing Orders\", \"Customer Service\", \"Delivering Items\"]\n",
    "        self.attendance = []\n",
    "\n",
    "    def check_employee(self, name):\n",
    "        return name in self.employees\n",
    "\n",
    "    def take_attendance(self, name):\n",
    "        if name not in self.attendance:\n",
    "            self.attendance.append(name)\n",
    "\n",
    "    def assign_task(self):\n",
    "        return random.choice(self.tasks)\n",
    "\n",
    "    def refuse_access(self):\n",
    "        return \"Access Denied: You are not registered as an employee.\"\n",
    "\n",
    "# Run in console\n",
    "def main():\n",
    "    system = EmployeeData()\n",
    "\n",
    "    print(\"Welcome to the Employee Attendance System.\")\n",
    "    name = input(\"Enter your full name: \")\n",
    "\n",
    "    if system.check_employee(name):\n",
    "        system.take_attendance(name)\n",
    "        task = system.assign_task()\n",
    "        print(f\"\\nWelcome, {name}!\")\n",
    "        print(\"Attendance taken.\")\n",
    "        print(f\"Your task for today: {task}\")\n",
    "    else:\n",
    "        print(\"\\n\" + system.refuse_access())\n",
    "\n",
    "main()\n"
   ]
  },
  {
   "cell_type": "code",
   "execution_count": null,
   "id": "529047d0-8679-4d84-8fb3-002e9829cf67",
   "metadata": {},
   "outputs": [],
   "source": []
  },
  {
   "cell_type": "code",
   "execution_count": null,
   "id": "21948f0a-51fb-4ee5-8d71-148cf740601e",
   "metadata": {},
   "outputs": [],
   "source": []
  }
 ],
 "metadata": {
  "kernelspec": {
   "display_name": "Python [conda env:base] *",
   "language": "python",
   "name": "conda-base-py"
  },
  "language_info": {
   "codemirror_mode": {
    "name": "ipython",
    "version": 3
   },
   "file_extension": ".py",
   "mimetype": "text/x-python",
   "name": "python",
   "nbconvert_exporter": "python",
   "pygments_lexer": "ipython3",
   "version": "3.12.7"
  }
 },
 "nbformat": 4,
 "nbformat_minor": 5
}
