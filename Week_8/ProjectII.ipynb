{
 "cells": [
  {
   "cell_type": "code",
   "execution_count": 6,
   "id": "e8074e51-31ba-4e45-801d-3f4f480fdde8",
   "metadata": {},
   "outputs": [],
   "source": [
    "import tkinter as tk\n",
    "from tkinter import messagebox\n",
    "\n",
    "class DeliveryService:\n",
    "    def calculate_cost(self, location, weight):\n",
    "        if location == \"PAU\":\n",
    "            if weight >= 10:\n",
    "                return 2000\n",
    "            else:\n",
    "                return 1500\n",
    "        elif location == \"Epe\":\n",
    "            if weight >= 10:\n",
    "                return 5000\n",
    "            else:\n",
    "                return 4000\n",
    "        else:\n",
    "            return None\n",
    "\n",
    "class DeliveryApp:\n",
    "    def __init__(self, root):\n",
    "        self.service = DeliveryService()\n",
    "\n",
    "        self.label1 = tk.Label(root, text=\"Location (PAU or Epe):\")\n",
    "        self.label1.pack()\n",
    "\n",
    "        self.entry_location = tk.Entry(root)\n",
    "        self.entry_location.pack()\n",
    "\n",
    "        self.label2 = tk.Label(root, text=\"Package weight (kg):\")\n",
    "        self.label2.pack()\n",
    "\n",
    "        self.entry_weight = tk.Entry(root)\n",
    "        self.entry_weight.pack()\n",
    "\n",
    "        self.button = tk.Button(root, text=\"Check Price\", command=self.calculate)\n",
    "        self.button.pack()\n",
    "\n",
    "    def calculate(self):\n",
    "        location = self.entry_location.get()\n",
    "        wght = self.entry_weight.get()\n",
    "\n",
    "        if wght.isdigit():\n",
    "            weight = int(wght)\n",
    "            cost = self.service.calculate_cost(location, weight)\n",
    "\n",
    "            if cost is not None:\n",
    "                messagebox.showinfo(\"Cost\", f\"Price: N{cost}\")\n",
    "            else:\n",
    "                messagebox.showinfo(\"Error\", \"Enter only PAU or Epe for location.\")\n",
    "        else:\n",
    "            messagebox.showinfo(\"Error\", \"Weight must be a number.\")\n",
    "\n",
    "root = tk.Tk()\n",
    "app = DeliveryApp(root)\n",
    "root.mainloop()\n"
   ]
  },
  {
   "cell_type": "code",
   "execution_count": null,
   "id": "b3488fe1-c982-4661-8e64-f7ea542ad2de",
   "metadata": {},
   "outputs": [],
   "source": []
  },
  {
   "cell_type": "code",
   "execution_count": null,
   "id": "53090f43-cd9a-45d5-9857-d8dc22ca1a5d",
   "metadata": {},
   "outputs": [],
   "source": []
  }
 ],
 "metadata": {
  "kernelspec": {
   "display_name": "Python [conda env:base] *",
   "language": "python",
   "name": "conda-base-py"
  },
  "language_info": {
   "codemirror_mode": {
    "name": "ipython",
    "version": 3
   },
   "file_extension": ".py",
   "mimetype": "text/x-python",
   "name": "python",
   "nbconvert_exporter": "python",
   "pygments_lexer": "ipython3",
   "version": "3.12.7"
  }
 },
 "nbformat": 4,
 "nbformat_minor": 5
}
